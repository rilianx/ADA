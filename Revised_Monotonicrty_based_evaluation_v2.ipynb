{
  "nbformat": 4,
  "nbformat_minor": 0,
  "metadata": {
    "colab": {
      "provenance": [],
      "collapsed_sections": [
        "qJ9M6Kw2w0dI",
        "jGBj7kqL1Oz5",
        "JTAzNv_bI0yd",
        "Aqgc7npfuzR1"
      ],
      "authorship_tag": "ABX9TyMTcsir0Tvb/fxW1dBGC54d",
      "include_colab_link": true
    },
    "kernelspec": {
      "name": "python3",
      "display_name": "Python 3"
    },
    "language_info": {
      "name": "python"
    }
  },
  "cells": [
    {
      "cell_type": "markdown",
      "metadata": {
        "id": "view-in-github",
        "colab_type": "text"
      },
      "source": [
        "<a href=\"https://colab.research.google.com/github/rilianx/ADA/blob/main/Revised_Monotonicrty_based_evaluation_v2.ipynb\" target=\"_parent\"><img src=\"https://colab.research.google.com/assets/colab-badge.svg\" alt=\"Open In Colab\"/></a>"
      ]
    },
    {
      "cell_type": "markdown",
      "metadata": {
        "id": "qJ9M6Kw2w0dI"
      },
      "source": [
        "## Installing pyibex"
      ]
    },
    {
      "cell_type": "code",
      "metadata": {
        "id": "Bc3OTPV3wK3U",
        "colab": {
          "base_uri": "https://localhost:8080/"
        },
        "outputId": "d2a41896-22e3-4420-e7fd-3fae6954dc7f"
      },
      "source": [
        "!pip install pyibex &> /dev/null\n",
        "!gdown https://drive.google.com/uc?id=1lS5q0100EgUZYMjetYPy7jf4TG6o_JgR\n",
        "!chmod +x ibexopt"
      ],
      "execution_count": 1,
      "outputs": [
        {
          "output_type": "stream",
          "name": "stdout",
          "text": [
            "Downloading...\n",
            "From: https://drive.google.com/uc?id=1lS5q0100EgUZYMjetYPy7jf4TG6o_JgR\n",
            "To: /content/ibexopt\n",
            "\r  0% 0.00/4.46M [00:00<?, ?B/s]\r100% 4.46M/4.46M [00:00<00:00, 66.9MB/s]\n"
          ]
        }
      ]
    },
    {
      "cell_type": "markdown",
      "source": [
        "## Occurrence Grouping"
      ],
      "metadata": {
        "id": "PlHWCUI8Im2g"
      }
    },
    {
      "cell_type": "code",
      "source": [
        "import itertools\n",
        "import numpy as np\n",
        "from pyibex import CtcFwdBwd, LEQ, GEQ\n",
        "from pyibex import Interval, IntervalVector\n",
        "from pyibex import Function\n",
        "\n",
        "\n",
        "def occurrence_grouping(gs):\n",
        "    G = Interval(0,0)\n",
        "    for i in range(0,len(gs)): G+=gs[i]\n",
        "    Gm = Interval(0,0)\n",
        "    for i in range(0,len(gs)):\n",
        "      if gs[i].contains(0) == False:  Gm+=gs[i]\n",
        "\n",
        "    #print(\"G:\", G, \"\\nGm:\", Gm)\n",
        "\n",
        "    if G.contains(0) == False: #monotonic\n",
        "      #print(\"case 1 (monotonic)\")\n",
        "      if G.lb()>=0: return OG_case1(gs, True)\n",
        "      else: return OG_case1(gs, False)\n",
        "    elif Gm.contains(0)==True: \n",
        "      #print(\"case 2 (+- partition)\")\n",
        "      return OG_case2(gs)\n",
        "    else: # 0 not_in Gm\n",
        "      #print(\"case 3 (knapsack)\")\n",
        "      if Gm.lb() > 0:\n",
        "        return OG_case3(gs)\n",
        "      else:\n",
        "        return OG_case3(gs, False)\n",
        "\n"
      ],
      "metadata": {
        "id": "LfyxwdaaHx_Z"
      },
      "execution_count": 2,
      "outputs": []
    },
    {
      "cell_type": "code",
      "source": [
        "def OG_case3(gs, incr=True):\n",
        "  ga = Interval(0,0)\n",
        "  r = [(0,0)]*len(gs)\n",
        "\n",
        "  #all positive and negative derivatives are absorved\n",
        "  for i in range(0,len(gs)):\n",
        "    if gs[i].lb() > 0 or gs[i].ub() <0:\n",
        "      ga += gs[i]\n",
        "      if incr: r[i] = (1,0) #ga\n",
        "      else: r[i] = (0,1)\n",
        "\n",
        "  if incr:\n",
        "    criteria = np.array([(g.ub() - g.mag())/(g.lb()) if g.lb()<0 and g.ub()>=0 else 0. for g in gs])\n",
        "  else:\n",
        "    criteria = np.array([(-g.lb() - g.mag())/(-g.ub()) if g.lb()<=0 and g.ub()>0 else 0. for g in gs])\n",
        "  #print([(g.ub(), g.mag(),g.lb()) if g.lb()<0 and g.ub()>0 else 0 for g in gs])\n",
        "  index = (-criteria).argsort()[:]\n",
        "\n",
        "  for i in index:\n",
        "    if gs[i].lb() > 0 or gs[i].ub() <0: break\n",
        "    if (incr and ga.lb()+gs[i].lb() <0) or (incr==False and ga.ub()+gs[i].ub()) >0: \n",
        "      if incr: \n",
        "        alpha = -ga.lb()/gs[i].lb()\n",
        "        r[i] = (alpha, 0)\n",
        "      else: \n",
        "        alpha = -ga.ub()/gs[i].ub()\n",
        "        r[i] = (0, alpha)\n",
        "      break\n",
        "    \n",
        "    if incr: r[i] = (1,0) #ga\n",
        "    else: r[i] = (0,1)\n",
        "    ga += gs[i]\n",
        "  \n",
        "  return r\n",
        "\n",
        "#occurrence_grouping([Interval(-12., -0.), Interval(-8, 4), Interval(14, 14)]) \n",
        "occurrence_grouping([Interval(0, 12.), Interval(-4, 8), Interval(-14, -14)]) \n",
        "    "
      ],
      "metadata": {
        "colab": {
          "base_uri": "https://localhost:8080/"
        },
        "id": "n8Y-FliMWyQo",
        "outputId": "668aecb5-bf4c-4744-c276-8b95cb2a3cb3"
      },
      "execution_count": 3,
      "outputs": [
        {
          "output_type": "execute_result",
          "data": {
            "text/plain": [
              "[(0, 1), (0, 0.25), (0, 1)]"
            ]
          },
          "metadata": {},
          "execution_count": 3
        }
      ]
    },
    {
      "cell_type": "code",
      "source": [
        "def OG_case1(gs, incr=True):\n",
        "  r = [()]*len(gs)\n",
        "  for i in range(len(gs)):\n",
        "    if incr: r[i] = (1, 0)\n",
        "    else: r[i] = (0, 1)\n",
        "  return r\n",
        "\n",
        "def OG_case2(gs):\n",
        "  Gplus = Interval(0,0); Gminus = Interval(0,0)\n",
        "  for g in gs:\n",
        "    if g.lb() >= 0:\n",
        "      Gplus += g\n",
        "    elif g.ub() <= 0:\n",
        "      Gminus += g\n",
        "\n",
        "  r = [(0,0)]*len(gs)\n",
        "\n",
        "  if Gplus.contains(0): return r\n",
        "\n",
        "  c = Gplus.lb()*Gminus.ub() - Gminus.lb()*Gplus.ub()\n",
        "  a1 = (Gplus.lb()*Gminus.ub() + Gminus.ub()*Gminus.lb()) / c\n",
        "  a2 = (Gplus.lb()*Gplus.ub() + Gminus.ub()*Gplus.lb()) / c\n",
        "\n",
        "  \n",
        "  for i in range(len(gs)):\n",
        "    if gs[i].lb() >= 0:\n",
        "      r[i] = (1-a1, a1)\n",
        "    elif gs[i].ub() <= 0:\n",
        "      r[i] = (a2, 1-a2)\n",
        "\n",
        "  return r\n",
        "\n",
        "#r = occurrence_grouping([Interval(-12., -5.), Interval(-8, 4), Interval(4, 14)]) \n",
        "r = occurrence_grouping([Interval(-12., -5.), Interval(-8, 0), Interval(14, 14)]) \n",
        "print (r)\n"
      ],
      "metadata": {
        "colab": {
          "base_uri": "https://localhost:8080/"
        },
        "id": "7RiGbbUObyfO",
        "outputId": "9bf14a4d-c215-4adf-bd21-c195815ce5fd"
      },
      "execution_count": 4,
      "outputs": [
        {
          "output_type": "stream",
          "name": "stdout",
          "text": [
            "[(1, 0), (0.25, 0), (1, 0)]\n"
          ]
        }
      ]
    },
    {
      "cell_type": "code",
      "source": [
        "import re\n",
        "\n",
        "def f_og_str(vars, expr, x):\n",
        "  n_vars = int(re.search(\"\\[(.*)\\]\", vars).groups(1)[0])\n",
        "  r = dict() #ra, rb and rc for each variable i\n",
        "  n_occ = dict()\n",
        "  tot_occ = 0\n",
        "\n",
        "  for i in range(n_vars):\n",
        "\n",
        "    n_occ[i] = expr.count('x['+str(i)+']')\n",
        "\n",
        "    tot_occ += n_occ[i]\n",
        "    \n",
        "\n",
        "    # visibilizing occurrences of variable i\n",
        "    expr_=expr\n",
        "    for o in range(n_occ[i]):\n",
        "      expr_=expr_.replace('x['+str(i)+']', 'x_['+str(o)+']', 1)\n",
        "    \n",
        "   \n",
        "    F_ = Function(vars,'x_['+str(n_occ[i])+']',expr_)\n",
        "    x_ = IntervalVector(x.size()+n_occ[i])\n",
        "\n",
        "\n",
        "    for j in range(x.size()): x_[j]=x[j];\n",
        "    for j in range(n_occ[i]): x_[x.size()+j]=x[i];\n",
        "\n",
        "    # extracting occurrence derivatives\n",
        "    x_,F_,F_.eval(x_)\n",
        "    \n",
        "    d_ = F_.diff().eval_vector(x_)\n",
        "\n",
        "    gs = []\n",
        "    for k in range(x.size(), x_.size()):\n",
        "      gs.append(d_[k])\n",
        "\n",
        "    # the occurrence grouping\n",
        "    #print(gs, end=': ')\n",
        "    r[i] = occurrence_grouping(gs)\n",
        "\n",
        "  #print(\"tot_occ:\", tot_occ)\n",
        "  # generating the expression\n",
        "  expr_=expr\n",
        "  for i in r:\n",
        "    for o in range(n_occ[i]):\n",
        "      if r[i][o][0]==1:\n",
        "        expr_=expr_.replace('x['+str(i)+']', 'xa['+str(i)+']', 1)\n",
        "      elif r[i][o][1]==1:\n",
        "        expr_=expr_.replace('x['+str(i)+']', 'xb['+str(i)+']', 1)\n",
        "      elif r[i][o][0]==0 and r[i][o][1]==0:\n",
        "        expr_=expr_.replace('x['+str(i)+']', 'xc['+str(i)+']', 1)    \n",
        "      elif r[i][o][0]>0:\n",
        "        expr_=expr_.replace('x['+str(i)+']', '('+ str(r[i][o][0]) +'*xa['+str(i)+']+'+ str(1.-r[i][o][0]) +'*xc['+str(i)+'])', 1)  \n",
        "      elif r[i][o][1]>0:\n",
        "        expr_=expr_.replace('x['+str(i)+']', '('+ str(r[i][o][1]) +'*xb['+str(i)+']+'+ str(1.-r[i][o][1]) +'*xc['+str(i)+'])', 1)\n",
        "\n",
        "  return expr_, n_vars\n",
        "\n",
        "def og_bound(f, x, min=True):\n",
        "  xog = IntervalVector(3*len(x)); k=0\n",
        "  for r in range(3):\n",
        "    for i in range(x.size()):\n",
        "      if (r==0 and min==True) or (r==1 and min == False): xog[k]=Interval(x[i].lb()) #a\n",
        "      elif (r==1 and min == True) or (r==0 and min == False): xog[k]=Interval(x[i].ub()) #b\n",
        "      else: xog[k]=x[i] #c\n",
        "      k+=1\n",
        "\n",
        "  if min == True:\n",
        "    return f.eval(xog).lb()\n",
        "  else:\n",
        "    return f.eval(xog).ub()\n",
        "\n",
        "\n",
        "def og_eval(vars, expr, x):\n",
        "  expr_, n_vars = f_og_str(vars, expr, x)\n",
        "  #print(expr_)\n",
        "  fog = Function('xa['+str(n_vars)+']','xb['+str(n_vars)+']','xc['+str(n_vars)+']',expr_)\n",
        "  #print(expr_)\n",
        "  ev = Interval(og_bound(fog, x, True), og_bound(fog, x, False))\n",
        "  return ev"
      ],
      "metadata": {
        "id": "3ud79g1xjBXO"
      },
      "execution_count": 5,
      "outputs": []
    },
    {
      "cell_type": "markdown",
      "source": [
        "## Taylor extension"
      ],
      "metadata": {
        "id": "jGBj7kqL1Oz5"
      }
    },
    {
      "cell_type": "code",
      "source": [
        "from sympy import Symbol, Derivative, factor\n",
        "import sympy\n",
        "import re\n",
        "\n",
        "def derivatives(vars, f):\n",
        "  name = vars[0]\n",
        "  n_var = int(re.search(\"\\[(.*)\\]\", vars).groups(1)[0])\n",
        "\n",
        "  f = re.sub(name+'\\[([0-9])+\\]', name+'\\\\1', f)\n",
        "\n",
        "  x=[]\n",
        "  for i in range(n_var):\n",
        "    x.append(Symbol(name+str(i)))\n",
        "\n",
        "  DF=[]\n",
        "  for i in range(n_var):\n",
        "    d=Derivative(f, x[i])\n",
        "    d=factor(d)\n",
        "    df = d.doit().__str__()\n",
        "    df = re.sub(name+'([0-9]+)', name+'[\\\\1]', df)\n",
        "    df = re.sub('\\*\\*', '^', df)\n",
        "    df = re.sub('log', 'ln', df)\n",
        "    DF.append(Function(vars, df))\n",
        "  return DF"
      ],
      "metadata": {
        "id": "xaN5sUzeQaiO"
      },
      "execution_count": 6,
      "outputs": []
    },
    {
      "cell_type": "code",
      "source": [
        "def taylor(F, DF, x, hansen=False):\n",
        "  fmid = F.eval(IntervalVector(x.mid()))\n",
        "  ev = Interval(fmid)\n",
        "  x_ = IntervalVector(x)\n",
        "\n",
        "  if hansen:\n",
        "    x = IntervalVector(x_.mid())\n",
        "\n",
        "  for i in range(x.size()):\n",
        "    if hansen: x[i] = Interval(x_[i])\n",
        "\n",
        "    ev += DF[i].eval(x)*(x_[i]-x_[i].mid())\n",
        "  return ev\n",
        "\n",
        "vars=\"x[2]\"\n",
        "#expr = \"10*x[0] + 2*x[1] - x[2] + 2*x[3] - 2*x[4] + x[0]*x[5] + 2*x[1]*x[5] + x[2]*x[5] + 2*x[3]*x[5] + x[4]*x[5] - 10*x[0]*x[5]^2 + 2*x[1]*x[5]^2 - x[2]*x[5]^2 + x[3]*x[5]^2 + 3*x[4]*x[5]^2\"\n",
        "expr = \"5*x[0] + -4*x[0]^2\"\n",
        "F = Function(vars, expr)\n",
        "DF = derivatives(vars, expr)\n",
        "\n",
        "\n",
        "x = IntervalVector([[0,1],[0,1]])\n",
        "\n",
        "\n",
        "taylor(F, DF, x, False)\n"
      ],
      "metadata": {
        "colab": {
          "base_uri": "https://localhost:8080/"
        },
        "id": "r_gINY1S1ORU",
        "outputId": "4d67e6f5-d91d-4c6f-cc55-6e991ca0c547"
      },
      "execution_count": 7,
      "outputs": [
        {
          "output_type": "execute_result",
          "data": {
            "text/plain": [
              "[-1, 4]"
            ]
          },
          "metadata": {},
          "execution_count": 7
        }
      ]
    },
    {
      "cell_type": "markdown",
      "source": [
        "## Revised Mono"
      ],
      "metadata": {
        "id": "JTAzNv_bI0yd"
      }
    },
    {
      "cell_type": "code",
      "source": [
        "from pyibex import CtcFwdBwd, LEQ, GEQ\n",
        "import itertools\n",
        "\n",
        "def strict_subset(x1, x):\n",
        "  return (x1.lb() > x.lb() ) and (x1.ub() < x.ub())\n",
        "\n",
        "\n",
        "\n",
        "def detect_boxes(DF, i, x, ratio=0.95, prec=1e-5, trad=False):\n",
        "    ctc_leq = CtcFwdBwd(DF[i], LEQ)\n",
        "    ctc_geq = CtcFwdBwd(DF[i], GEQ)\n",
        "\n",
        "    x0 = IntervalVector(x)\n",
        "    old_p = x.perimeter()\n",
        "    neg=pos=left=right=False\n",
        "\n",
        "    ctc_geq.contract(x0)\n",
        "\n",
        "    if x0.is_empty():  #decreasing\n",
        "      return None, False\n",
        "\n",
        "    var=None # store the first variable contracted\n",
        "    for j in range(x.size()):\n",
        "      if x0[j].lb() > x[j].lb():\n",
        "        neg=\"left\"; var=j; break\n",
        "      elif x0[j].ub() < x[j].ub():\n",
        "        neg=\"right\"; var=j; break\n",
        "\n",
        "    old_p = x.perimeter()\n",
        "    x1 = IntervalVector(x0)\n",
        "    ctc_leq.contract(x0)\n",
        "\n",
        "    if x0.is_empty(): #increasing\n",
        "      return None, True\n",
        "\n",
        "    if trad: return None, None\n",
        "\n",
        "    same_var = False\n",
        "    for j in range(x.size()):\n",
        "      if x0[j].lb() > x1[j].lb():\n",
        "        pos=\"left\"; \n",
        "        if var==j: same_var=True; break\n",
        "        var=j;\n",
        "      elif x0[j].ub() < x1[j].ub():\n",
        "        pos=\"right\"; \n",
        "        if var==j: same_var=True; break\n",
        "        var=j;\n",
        "\n",
        "    if pos!=False and neg==False:\n",
        "      old_p = x.perimeter()\n",
        "      x1 = IntervalVector(x0)\n",
        "      ctc_geq.contract(x0)\n",
        "      same_var = False\n",
        "      for j in range(x.size()):\n",
        "        if x0[j].lb() > x1[j].lb():\n",
        "          neg=\"left\"; \n",
        "          if var==j: same_var=True; break\n",
        "        elif x0[j].ub() < x1[j].ub():\n",
        "          neg=\"right\"; \n",
        "          if var==j: same_var=True; break\n",
        "          \n",
        "\n",
        "    ctc = CtcFwdBwd(DF[i])   \n",
        "    while x0.perimeter()>prec and x0.perimeter() < ratio*old_p:\n",
        "      old_p=x0.perimeter()\n",
        "      ctc.contract(x0)\n",
        "\n",
        "\n",
        "    if x0.is_empty(): x0=None\n",
        "\n",
        "\n",
        "    if neg==False and pos==False:\n",
        "      return x0, None\n",
        "    elif neg!=False and pos==False:\n",
        "      return x0, False\n",
        "    elif neg==False and pos!=False:\n",
        "      return x0, True\n",
        "\n",
        "    if same_var:\n",
        "      if pos==\"left\":\n",
        "        return x0, (var, True) #indicates the variable and if the first subspace is increasing\n",
        "      else:\n",
        "        return x0, (var, False)\n",
        "\n",
        "      "
      ],
      "metadata": {
        "id": "vyeWvhEEuIjg"
      },
      "execution_count": 8,
      "outputs": []
    },
    {
      "cell_type": "markdown",
      "source": [
        "### Exponential number of subspaces"
      ],
      "metadata": {
        "id": "9xK0CsfLURDG"
      }
    },
    {
      "cell_type": "code",
      "source": [
        "def identify_min_max_subspaces(i, x, x0, incr, minimization=True):\n",
        "  x_m = []\n",
        "  xi = Interval(x[i])\n",
        "\n",
        "  if incr == None: return [IntervalVector(x)]\n",
        "\n",
        "  if type(incr) is bool:\n",
        "    if (minimization==True and incr==True) or (minimization==False and incr==False):\n",
        "      x[i]=Interval(xi.lb())\n",
        "    else:  x[i]=Interval(xi.ub())\n",
        "\n",
        "    if x0 is not None:\n",
        "      if not x.is_subset(x0): x_m.append(IntervalVector(x))\n",
        "      x_m.append(x0)\n",
        "    else: x_m.append(IntervalVector(x))\n",
        "\n",
        "    x[i]=xi\n",
        "  \n",
        "  elif i!=incr[0]:\n",
        "    var = incr[0]\n",
        "    x2 = IntervalVector(x)\n",
        "    if (minimization==True and incr[1]==True) or (minimization==False and incr[1]==False):\n",
        "      x[i]=Interval(xi.lb()); x2[i]=Interval(xi.ub())\n",
        "    else: \n",
        "      x[i]=Interval(xi.ub()); x2[i]=Interval(xi.lb())\n",
        "\n",
        "    xvar = Interval(x[var])\n",
        "    x[var] = Interval(xvar.lb(), x0[var].lb())\n",
        "    x2[var] = Interval(x0[var].ub(), xvar.ub())\n",
        "    \n",
        "    x_m.append(IntervalVector(x))\n",
        "    x_m.append(IntervalVector(x2))\n",
        "    x_m.append(x0)\n",
        "\n",
        "    x[i] = xi\n",
        "    x[var] = xvar\n",
        "  \n",
        "  elif i==incr[0]:\n",
        "    if (minimization==True and incr[1]==True) or (minimization==False and incr[1]==False):  # min /x\\  or max \\x/\n",
        "      x2 = IntervalVector(x)\n",
        "      x[i]=Interval(xi.lb()); x2[i]=Interval(xi.ub())\n",
        "      x_m.append(IntervalVector(x))\n",
        "      x_m.append(x2)\n",
        "      \n",
        "    x_m.append(x0)\n",
        "\n",
        "    x[i] = xi\n",
        "\n",
        "  return x_m\n"
      ],
      "metadata": {
        "id": "IohARaWZ57hn"
      },
      "execution_count": 9,
      "outputs": []
    },
    {
      "cell_type": "markdown",
      "source": [
        "### Constant number of subspaces"
      ],
      "metadata": {
        "id": "qesjWHZcUTyQ"
      }
    },
    {
      "cell_type": "code",
      "source": [
        "def identify_min_max_subspaces2(DF, i, x, x0, incr, minimization=True, taylor=True):\n",
        "  x_m = []\n",
        "  xi = Interval(x[i])\n",
        "\n",
        "  error = 0\n",
        "  \n",
        "  if incr == None: return [IntervalVector(x)]\n",
        "  \n",
        "  if type(incr) is bool:\n",
        "    if (minimization==True and incr==True) or (minimization==False and incr==False):\n",
        "      x[i]=Interval(xi.lb())\n",
        "    else:  x[i]=Interval(xi.ub())\n",
        "\n",
        "    if x0 is not None:\n",
        "      if not x.is_subset(x0): \n",
        "        # point + error\n",
        "        d = DF[i].eval(x0)\n",
        "\n",
        "        if incr==True: error = max(0.0,-d.lb()*x0[i].diam())\n",
        "        else: error = max(0.0, d.ub()*x0[i].diam())\n",
        "        if taylor:\n",
        "          x_m.append((IntervalVector(x), error))\n",
        "        else:\n",
        "          xx = IntervalVector(x)\n",
        "          xx |= x0\n",
        "          x_m.append(xx)\n",
        "      else:\n",
        "        x_m.append(x0)\n",
        "    else: x_m.append(IntervalVector(x))\n",
        "\n",
        "    x[i]=xi\n",
        "  \n",
        "  elif i!=incr[0]:\n",
        "    #x_m.append(IntervalVector(x))\n",
        "\n",
        "    var = incr[0]\n",
        "    x2 = IntervalVector(x)\n",
        "    if (minimization==True and incr[1]==True) or (minimization==False and incr[1]==False):\n",
        "      x[i]=Interval(xi.lb()); x2[i]=Interval(xi.ub())\n",
        "    else: \n",
        "      x[i]=Interval(xi.ub()); x2[i]=Interval(xi.lb())\n",
        "\n",
        "    xvar = Interval(x[var])\n",
        "\n",
        "    xleft=True\n",
        "    x[var] = Interval(xvar.lb(), x0[var].lb())\n",
        "    x2[var] = Interval(x0[var].ub(), xvar.ub())\n",
        "    incr = incr[1]\n",
        "\n",
        "    if xvar.ub()-x0[var].ub() > x0[var].lb()-xvar.lb():\n",
        "      xleft=False\n",
        "      x, x2 = x2, x\n",
        "      incr = not incr\n",
        "\n",
        "    d = DF[i].eval(x0)\n",
        "    dvar = DF[var].eval(x2)\n",
        "\n",
        "    if (minimization and xleft) or (minimization==False and xleft==False):\n",
        "      error = max(0.0,-dvar.lb()*x2[var].diam())\n",
        "    else:\n",
        "      error = max(0.0,dvar.ub()*x2[var].diam())\n",
        "\n",
        "    if incr: \n",
        "      error += max(0.0,-d.lb()*x0[i].diam())      \n",
        "    else:\n",
        "      error += max(0.0,d.ub()*x0[i].diam())\n",
        "\n",
        "\n",
        "    if taylor:\n",
        "      x_m.append((IntervalVector(x), error))\n",
        "\n",
        "    x[i] = xi\n",
        "    x[var] = xvar\n",
        "\n",
        "    if taylor==False: x_m.append(IntervalVector(x))\n",
        "  \n",
        "  elif i==incr[0]:\n",
        "    d = DF[i].eval(x0)\n",
        "\n",
        "    if (minimization==True and incr[1]==True) or (minimization==False and incr[1]==False):  # min /x\\  or max \\x/\n",
        "      # se junta x0 con borde más cercano\n",
        "      if x[i].ub()-x0[i].ub() < x0[i].lb()-x[i].lb():\n",
        "        x0[i] |= Interval(x[i].ub())\n",
        "        return identify_min_max_subspaces2(DF, i, x, x0, incr[1], minimization=minimization, taylor=taylor)\n",
        "      else:\n",
        "        x0[i] |= Interval(x[i].lb())\n",
        "        return identify_min_max_subspaces2(DF, i, x, x0, not incr[1], minimization=minimization, taylor=taylor)\n",
        "\n",
        "    else: x_m.append(x0)\n",
        "\n",
        "    \n",
        "    #x[i] = xi\n",
        "\n",
        "  else: print(incr, \"no case\")\n",
        "\n",
        "  return x_m"
      ],
      "metadata": {
        "id": "7p74rIy6_dWN"
      },
      "execution_count": 10,
      "outputs": []
    },
    {
      "cell_type": "markdown",
      "source": [
        "### The main method"
      ],
      "metadata": {
        "id": "xfqvnoOBUjeX"
      }
    },
    {
      "cell_type": "code",
      "source": [
        "def monotonic_boxes(x, F, DF, minimization=True, ratio=0.95, prec=1e-5, expon=False, trad=False, taylor=True):\n",
        "  #print(minimization)\n",
        "  x=IntervalVector(x)\n",
        "  X = [0]*x.size()\n",
        "\n",
        "  contracted = True\n",
        "\n",
        "  while contracted == True:\n",
        "     contracted = False\n",
        "     for i in range(x.size()):\n",
        "      x0, incr = detect_boxes(DF, i, x, ratio=ratio, prec=prec, trad=trad)\n",
        "      #print(\"x0:\",x0,incr)\n",
        "      if expon:\n",
        "        x_m = identify_min_max_subspaces(i, x, x0, incr, minimization)\n",
        "      else:\n",
        "        x_m = identify_min_max_subspaces2(DF,i, x, x0, incr, minimization, taylor=taylor)\n",
        "      #print(len(x_m))\n",
        "      \n",
        "      X[i] = x_m\n",
        "\n",
        "\n",
        "      old_diam = x[i].diam()\n",
        "      \n",
        "      if len(x_m)==1: \n",
        "        if type(x_m[0]) is IntervalVector:\n",
        "          x = IntervalVector(x_m[0])\n",
        "        else:\n",
        "          x = IntervalVector(x_m[0][0])\n",
        "\n",
        "      #x_i <- Hull (X[i])\n",
        "      # xx = None\n",
        "      # for k in range(len(X[i])):\n",
        "      #   #print(X[i][k])\n",
        "      #   if type(X[i][k]) is IntervalVector:\n",
        "      #     iv = X[i][k][i]\n",
        "      #   else: \n",
        "      #     iv = X[i][k][0][i]\n",
        "\n",
        "      #   if xx is None:  xx = Interval(iv)\n",
        "      #   else: xx |= iv\n",
        "\n",
        "      # x[i] = Interval(xx)\n",
        "\n",
        "      \n",
        "\n",
        "\n",
        "      #if x[i].diam() < ratio*old_diam and old_diam>prec:\n",
        "      #  contracted = True # deberian agregarse a cola ctrs que contengan x[i]\n",
        "\n",
        "  boxes = []\n",
        "\n",
        "\n",
        "  for xxx in itertools.product(*X):\n",
        "    x_ = None; error=0\n",
        "    for k in range(len(xxx)):\n",
        "      if type(xxx[k]) is IntervalVector: iv = xxx[k]\n",
        "      else: \n",
        "        iv = xxx[k][0]; error += xxx[k][1]\n",
        "\n",
        "      if x_ is None: x_ = IntervalVector(iv)\n",
        "      else: x_ &= IntervalVector(iv)\n",
        "\n",
        "      if x_.is_empty(): break\n",
        "      \n",
        "\n",
        "    if not x_.is_empty():\n",
        "      #print(x_,error)\n",
        "      boxes.append((IntervalVector(x_),error))\n",
        "\n",
        "  return boxes \n",
        "\n",
        "\n",
        "def hull_eval(F,boxes):\n",
        "  y=None\n",
        "  for box in boxes:\n",
        "    error=0\n",
        "    if type(box) is not IntervalVector:\n",
        "      error = box[1]; b = box[0]\n",
        "    else: b = box\n",
        "\n",
        "    if y==None: y = F.eval(b)+Interval(-error,error)\n",
        "    else: y |= F.eval(b)+Interval(-error,error)\n",
        "  \n",
        "  return y\n",
        "\n",
        "def revised_mono_eval(x, F, DF, ratio=0.95, prec=1e-5, expon=False, trad=False, taylor=True):\n",
        "  min_boxes = monotonic_boxes(x, F, DF, minimization=True, expon=expon, trad=trad, taylor=taylor)\n",
        "  max_boxes = monotonic_boxes(x, F, DF, minimization=False, expon=expon, trad=trad, taylor=taylor)\n",
        "  return Interval(hull_eval(F,min_boxes).lb(),hull_eval(F,max_boxes).ub()), len(min_boxes)+len(max_boxes)\n",
        "\n",
        "vars =\"x[2]\"\n",
        "func = \"x[0]^2 -5*x[0] -x[1]^3 + 2*x[1]^2 + 14 *x[1]\"\n",
        "x = IntervalVector([[0,2],[-2,1]])\n",
        "\n",
        "F = Function(vars, func)\n",
        "DF = derivatives(vars, func)\n",
        "revised_mono_eval(x,F,DF)\n"
      ],
      "metadata": {
        "id": "CUK8FMem-FCL",
        "colab": {
          "base_uri": "https://localhost:8080/"
        },
        "outputId": "3f14a102-44b4-4c17-806e-15c43a6c3153"
      },
      "execution_count": 11,
      "outputs": [
        {
          "output_type": "execute_result",
          "data": {
            "text/plain": [
              "([-19.18433611834098, 17.43537044051436], 2)"
            ]
          },
          "metadata": {},
          "execution_count": 11
        }
      ]
    },
    {
      "cell_type": "markdown",
      "source": [
        "## IbexOpt"
      ],
      "metadata": {
        "id": "5MX0GjAeterH"
      }
    },
    {
      "cell_type": "code",
      "source": [
        "import subprocess\n",
        "import os\n",
        "\n",
        "#args = '-r 1e-7 -f \\\"10*x[0] + 2*x[1] - x[2] + 2*x[3] - 2*x[4] + x[0]*x[5] + 2*x[1]*x[5] + x[2]*x[5] + 2*x[3]*x[5] + x[4]*x[5] - 10*x[0]*x[5]^2 + 2*x[1]*x[5]^2 - x[2]*x[5]^2 + x[3]*x[5]^2 + 3*x[4]*x[5]^2\\\" -x \\\"x[6] in [0,1];\\\"'\n",
        "\n",
        "\n",
        "def ibexopt(vars, func, x, prec=1e-4):\n",
        "\n",
        "  #minimization\n",
        "  p = subprocess.Popen([\"./ibexopt\", '-a', str(prec), '-t', '5', '-f', func,\\\n",
        "                      '-x', vars+' in ['+str(x[0].lb())+','+str(x[0].ub())+'];'], stdout=subprocess.PIPE)\n",
        "\n",
        "  for line in p.communicate()[0].decode().splitlines():\n",
        "    if line.find(\"f* in\")!=-1:\n",
        "      lb = float(re.search('\\[(.*),(.*)\\]', line).groups(0)[1])\n",
        "    if line.find(\"number of cells:\")!=-1:\n",
        "      n_cells = int(re.search('\\t\\t([0-9]*)', line).groups(0)[0])\n",
        "\n",
        "  #maximization\n",
        "  p = subprocess.Popen([\"./ibexopt\", '-a', str(prec), '-t', '1', '-f', '-('+func+')',\\\n",
        "                      '-x', vars+' in ['+str(x[0].lb())+','+str(x[0].ub())+'];'], stdout=subprocess.PIPE)\n",
        "\n",
        "\n",
        "  for line in p.communicate()[0].decode().splitlines():\n",
        "    #print(line)\n",
        "    if line.find(\"f* in\")!=-1:\n",
        "      ub = -float(re.search('\\[(.*),(.*)\\]', line).groups(0)[0])\n",
        "    if line.find(\"number of cells:\")!=-1:\n",
        "      n_cells += int(re.search('\\t\\t([0-9]*)', line).groups(0)[0])\n",
        "      \n",
        "\n",
        "  return Interval(lb,ub), n_cells\n",
        "\n",
        "x = IntervalVector([[-10,10]])\n",
        "ibexopt(\"x[10]\", \"300  + x[0]^2 + x[1] ^2 + x[2] ^2 + x[3]^2 + x[4]^2 +x[5]^2 + x[6] ^2 + x[7] ^2 + x[8]^2 + x[9]^2 - 10 *cos (2*pi*x[0]) - 10 *cos (2*pi*x[1]) \\\n",
        "-  10 *cos (2*pi*x[2]) -  10 *cos (2*pi*x[3]) - 10 *cos (2*pi*x[4]) - 10 *cos (2*pi*x[5]) - 10 *cos (2*pi*x[6]) -  10 *cos (2*pi*x[7]) -  10 *cos (2*pi*x[8]) - 10 *cos (2*pi*x[9])\", x)\n",
        "\n",
        "#!./ibexopt -r 1e-4 -f \"-(10*x[0] + 2*x[1] - x[2] + 2*x[3] - 2*x[4] + x[0]*x[5] + 2*x[1]*x[5] + x[2]*x[5] + 2*x[3]*x[5] + x[4]*x[5] - 10*x[0]*x[5]^2 + 2*x[1]*x[5]^2 - x[2]*x[5]^2 + x[3]*x[5]^2 + 3*x[4]*x[5]^2)\" -x \"x[6] in [0,1];\"\n",
        "\n"
      ],
      "metadata": {
        "colab": {
          "base_uri": "https://localhost:8080/"
        },
        "id": "WWdkyGD2l9PP",
        "outputId": "c2100ff0-dea7-4041-aaea-2435eee77a40"
      },
      "execution_count": 12,
      "outputs": [
        {
          "output_type": "execute_result",
          "data": {
            "text/plain": [
              "([200.000000001, 1380.120120120001], 866)"
            ]
          },
          "metadata": {},
          "execution_count": 12
        }
      ]
    },
    {
      "cell_type": "markdown",
      "source": [
        "## Validation (codes)"
      ],
      "metadata": {
        "id": "Aqgc7npfuzR1"
      }
    },
    {
      "cell_type": "code",
      "source": [
        "import random \n",
        "import matplotlib.pyplot as plt\n",
        "import seaborn as sns \n",
        "\n",
        "def evaluate(vars, func, x, method=None):\n",
        "  F = Function(vars, func)\n",
        "  DF = derivatives(vars, func)\n",
        "  #print (DF)\n",
        "\n",
        "  #estimation = mc_estimation(func, x)\n",
        "  if method is None or method=='ibexopt':\n",
        "    optimal, n_cells = ibexopt(vars, func, x)\n",
        "    ev=optimal\n",
        "\n",
        "  natural = F.eval(x)\n",
        "  if method is None or method=='natural':  \n",
        "    ev=natural\n",
        "  #print(optimal, natural)\n",
        "  \n",
        "  #print(\"estimated optimal bounds:\", estimation)\n",
        "  #print(\"natural bounds:\", natural)\n",
        "\n",
        "  if method is None or method=='classic':\n",
        "    classic, evals_classic = revised_mono_eval(x, F, DF, ratio=0.95, prec=1e-5, trad=True)\n",
        "    ev=classic\n",
        "  #print(\"Classic monotonic evaluation:\", classic)\n",
        "\n",
        "  if method is None or method=='revised':\n",
        "    revised, evals_rev = revised_mono_eval(x, F, DF, ratio=0.95, prec=1e-5, taylor=False)\n",
        "    ev=revised\n",
        "  #print(\"Revised monotonic evaluation:\", revised, evals_rev)\n",
        "\n",
        "  if method is None or method=='revised_t':\n",
        "    revised_t, evals_rev_t = revised_mono_eval(x, F, DF, ratio=0.95, prec=1e-5, taylor=True)\n",
        "    revised_t &= natural\n",
        "    ev=revised_t\n",
        "  #print(\"Revised monotonic evaluation:\", revised, evals_rev)\n",
        "\n",
        "  if method is None or method=='revised_exp':\n",
        "    revised_exp, evals_rev_exp = revised_mono_eval(x, F, DF, ratio=0.95, prec=1e-5, expon=True)\n",
        "    ev=revised_exp\n",
        "  #print(\"Revised monotonic evaluation (expon):\", revised_exp, evals_rev_exp)\n",
        "\n",
        "  if method is None or method=='og':\n",
        "    og = og_eval(vars, func, x)\n",
        "    og &= classic\n",
        "    ev=og\n",
        "  #print(\"Occurrence grouping evaluation:\", og)\n",
        "\n",
        "  if method is None or method=='hansen':\n",
        "    hansen_eval = taylor(F, DF, x, True)\n",
        "    hansen_eval &= natural\n",
        "    ev=hansen_eval\n",
        "\n",
        "  if method is None:\n",
        "    return [optimal, natural, classic, og, hansen_eval, revised, revised_t, revised_exp], [n_cells, 1, evals_classic, 2, x.size(), evals_rev, evals_rev_t, evals_rev_exp]\n",
        "  else:\n",
        "    return ev\n",
        "\n",
        "def comparison_2d(vars, func, minn=0.0, maxx=10.0, max_size=2.0, n_slices=10, method='revised_t'):\n",
        "  n_vars = int(re.search(\"\\[(.*)\\]\", vars).groups(1)[0])\n",
        "  x = IntervalVector(n_vars)\n",
        "\n",
        "  total_ev = np.zeros(5)\n",
        "  w_slice=(maxx-minn)/n_slices\n",
        "  w_=max_size/n_slices\n",
        "\n",
        "  a=np.zeros((n_slices+1,n_slices))\n",
        "\n",
        "  x_axis_labels = []\n",
        "  y_axis_labels = []\n",
        "\n",
        "  for k in range(n_slices+1):\n",
        "    lb = minn+k*w_slice\n",
        "    y_axis_labels.insert(0,'%.1f' % lb)\n",
        "    for k2 in range(1,n_slices+1):\n",
        "      w = k2*w_\n",
        "      if k==0: x_axis_labels.append('%.1f' % w)\n",
        "      for i in range(n_vars): x[i]= Interval(lb,lb+w)\n",
        "      opt = evaluate(vars, func, x, method='ibexopt').lb()\n",
        "      lb_ = evaluate(vars, func, x, method=method).lb()\n",
        "      \n",
        "      a[n_slices-k][k2-1] = (opt-lb_)/np.abs(opt) if np.abs(opt)>1 else opt-lb_\n",
        "  \n",
        "  fig, ax = plt.subplots(figsize=(10,10))\n",
        "\n",
        "\n",
        "  #matrix = np.triu(a)\n",
        "\n",
        "  h= sns.heatmap(a, xticklabels=x_axis_labels, yticklabels=y_axis_labels, annot=True, vmax=2.0, cmap=\"crest\", fmt='.1f', ax=ax)\n",
        "  plt.show()\n",
        "\n",
        "\n",
        "def comparison_w(title, vars, func, mid=0., min_w=0.1,  max_w=2.0, n_slices=20, ylim=-1):\n",
        "  n_vars = int(re.search(\"\\[(.*)\\]\", vars).groups(1)[0])\n",
        "  x = IntervalVector(n_vars)\n",
        "\n",
        "  samples = []\n",
        "\n",
        "  total_ev = np.zeros(8)\n",
        "  total_evs = np.zeros(8)\n",
        "\n",
        "  w_slice = (max_w-min_w)/(n_slices-1)\n",
        "\n",
        "  for k in range(n_slices):\n",
        "    wid = min_w+w_slice*k\n",
        "    for i in range(n_vars): x[i]= Interval(mid-wid/2,mid+wid/2)\n",
        "\n",
        "    evs, n_ev = evaluate(vars, func, x)\n",
        "    total_ev += np.array(n_ev)\n",
        "    sample = [100*(-y.lb()+evs[0].lb())/np.abs(evs[0].lb()) if np.abs(evs[0].lb())>1 else 100*(-y.lb()+evs[0].lb()) for y in evs ] \n",
        "    total_evs += np.array(sample)\n",
        "\n",
        "    sample.insert(0,wid)\n",
        "    samples.append(sample)\n",
        "    \n",
        "  samples = [list(x) for x in zip(*samples)]\n",
        "\n",
        "\n",
        "  #plt_1 = plt.figure(figsize=(10, 5))\n",
        "\n",
        "  plt.plot(samples[0], samples[2], marker='x')\n",
        "  plt.plot(samples[0], samples[3], marker='v')\n",
        "  plt.plot(samples[0], samples[4], marker='^')\n",
        "  plt.plot(samples[0], samples[5], marker='<')\n",
        "  #plt.plot(samples[0], samples[6], marker='>')\n",
        "  plt.plot(samples[0], samples[7], marker='d')\n",
        "  #plt.plot(samples[0], samples[8], marker='d')\n",
        "\n",
        "\n",
        "  plt.title(title)\n",
        "  plt.legend(['N-ext','M-ext', 'OG-ext', 'H-ext', 'M*-ext' ])\n",
        "  plt.ylabel('%error',fontsize=12)\n",
        "  plt.xlabel('wid_x')\n",
        "\n",
        "  if ylim != -1:\n",
        "    plt.ylim(ylim)\n",
        "\n",
        "  #plt.ylim([-0.1, 2.1])\n",
        "\n",
        "  plt.savefig(title+\".pdf\", format=\"pdf\", bbox_inches=\"tight\")\n",
        "\n",
        "  plt.show()\n",
        "\n",
        "\n",
        "def comparison(vars, func, min_mid=-2., max_mid=2.,  wbox=1.0, n_slices=20, plot=True):\n",
        "  n_vars = int(re.search(\"\\[(.*)\\]\", vars).groups(1)[0])\n",
        "  x = IntervalVector(n_vars)\n",
        "\n",
        "  \n",
        "  samples = []\n",
        "\n",
        "  total_ev = np.zeros(8)\n",
        "  total_evs = np.zeros(8)\n",
        "\n",
        "  w_slice = (max_mid-min_mid)/(n_slices-1)\n",
        "\n",
        "  for k in range(n_slices):\n",
        "    mid = min_mid+w_slice*k\n",
        "    for i in range(n_vars): x[i]= Interval(mid-wbox/2,mid+wbox/2)\n",
        "\n",
        "    evs, n_ev = evaluate(vars, func, x)\n",
        "    total_ev += np.array(n_ev)\n",
        "    sample = [(-y.lb()+evs[0].lb())/np.abs(evs[0].lb()) if np.abs(evs[0].lb())>1 else -y.lb()+evs[0].lb() for y in evs ] \n",
        "    total_evs += np.array(sample)\n",
        "\n",
        "    sample.insert(0,mid)\n",
        "    samples.append(sample)\n",
        "    \n",
        "  samples = [list(x) for x in zip(*samples)]\n",
        "\n",
        "  if plot:\n",
        "\n",
        "    #plt_1 = plt.figure(figsize=(10, 5))\n",
        "\n",
        "    plt.plot(samples[0], samples[2], marker='x')\n",
        "    plt.plot(samples[0], samples[3], marker='v')\n",
        "    plt.plot(samples[0], samples[4], marker='^')\n",
        "    plt.plot(samples[0], samples[5], marker='<')\n",
        "    plt.plot(samples[0], samples[6], marker='>')\n",
        "    plt.plot(samples[0], samples[7], marker='+')\n",
        "    plt.plot(samples[0], samples[8], marker='d')\n",
        "\n",
        "    plt.legend(['natural','classic', 'revised', 'revised_t', 'revised_exp', 'og', 'hansen'])\n",
        "    plt.ylabel('%error')\n",
        "    plt.xlabel('mid_x')\n",
        "\n",
        "    #plt.ylim([-0.1, 2.1])\n",
        "\n",
        "    plt.show()\n",
        "\n",
        "  results = []; k=0\n",
        "  for s in samples[1:]:\n",
        "    results.append((np.mean(np.array(s)), np.std(np.array(s)), np.max(np.array(s)), total_ev[k]/n_slices))\n",
        "    k+=1\n",
        "\n",
        "  #print(total_ev)\n",
        "\n",
        "  print(results)\n",
        "  return results"
      ],
      "metadata": {
        "id": "hPyfEK-KYmwV",
        "colab": {
          "base_uri": "https://localhost:8080/"
        },
        "outputId": "5175fe61-17f7-487e-97b0-c5c0bb97085b"
      },
      "execution_count": 13,
      "outputs": [
        {
          "output_type": "stream",
          "name": "stderr",
          "text": [
            "/usr/local/lib/python3.8/dist-packages/numpy/core/getlimits.py:417: UserWarning: Signature b'\\xcc\\xcc\\xcc\\xbd' for <class 'numpy.float32'> does not match any known type: falling back to type probe function\n",
            "  machar = _get_machar(dtype)\n",
            "/usr/local/lib/python3.8/dist-packages/numpy/core/machar.py:288: RuntimeWarning: overflow encountered in true_divide\n",
            "  xmax = xmax / (xmin*beta*beta*beta)\n"
          ]
        }
      ]
    },
    {
      "cell_type": "markdown",
      "source": [
        "## Experimentos"
      ],
      "metadata": {
        "id": "k8UDKrwevNbi"
      }
    },
    {
      "cell_type": "markdown",
      "source": [
        "### Instances"
      ],
      "metadata": {
        "id": "AiZGFdkEsSj0"
      }
    },
    {
      "cell_type": "code",
      "source": [
        "instances = [[\"ackley5\",\"x[5]\", \"-20 * exp (-0.2 * sqrt (0.2 * (x[0]^2 + x[1] ^2 + x[2]^2 + x[3]^2 + x[4] ^2))) - \\\n",
        "exp (0.2 * (cos (2*pi*x[0]) + cos (2*pi*x[1]) +cos (2*pi*x[2]) + cos (2*pi*x[3]) + cos (2*pi*x[4]))) + 22.718281\"],\\\n",
        "[\"beale\", \"x[2]\", \"(1.5 - x[0] +x[0]*x[1])^2 + (2.25 -x[0] + x[0]*x[1]^2)^2 + (2.625 - x[0] + x[0]*x[1]^3)^2 \"], \\\n",
        "[\"bohachevsky10\",  \"x[10]\", \"x[0]^2+2*x[1]^2 -0.3 * cos(3*pi*x[0]) -0.4 * cos(4*pi*x[1]) + 0.7 \\\n",
        "+ x[1]^2+2*x[2]^2 -0.3 * cos(3*pi*x[1]) -0.4 * cos(4*pi*x[2]) + 0.7 \\\n",
        "+ x[2]^2+2*x[3]^2 -0.3 * cos(3*pi*x[2]) -0.4 * cos(4*pi*x[3]) + 0.7 \\\n",
        "+ x[3]^2+2*x[4]^2 -0.3 * cos(3*pi*x[3]) -0.4 * cos(4*pi*x[4]) + 0.7 \\\n",
        "+ x[4]^2+2*x[5]^2 -0.3 * cos(3*pi*x[4]) -0.4 * cos(4*pi*x[5]) + 0.7 \\\n",
        "+ x[5]^2+2*x[6]^2 -0.3 * cos(3*pi*x[5]) -0.4 * cos(4*pi*x[6]) + 0.7 \\\n",
        "+ x[6]^2+2*x[7]^2 -0.3 * cos(3*pi*x[6]) -0.4 * cos(4*pi*x[7]) + 0.7 \\\n",
        "+ x[7]^2+2*x[8]^2 -0.3 * cos(3*pi*x[7]) -0.4 * cos(4*pi*x[8]) + 0.7 \\\n",
        "+ x[8]^2+2*x[9]^2 -0.3 * cos(3*pi*x[8]) -0.4 * cos(4*pi*x[9]) + 0.7\"], \\\n",
        "[\"dixon-price-5\",  \"x[10]\", \"(x[0]-1)^2 + 2 * (2* x[1]^2 - x[0])^2 + 3 * (2* x[2]^2 - x[1])^2 + 4 * (2* x[3]^2 - x[2])^2 + 5 * (2* x[4]^2 - x[3])^2 \\\n",
        "+ 6 * (2* x[5]^2 - x[4])^2 + 7 * (2* x[6]^2 - x[5])^2 + 8 * (2* x[7]^2 - x[6])^2 + 9 * (2* x[8]^2 - x[7])^2 + 10*(2* x[9]^2 - x[8])^2\"],\\\n",
        "[\"ex4_1_5\",\"x[2]\",\"2*x[0]^2 - 1.05*x[0]^4 + 0.166666666666667*x[0]^6 - x[0]*x[1] + x[1]^2\"],\n",
        "[\"ex8_1_4\",\"x[2]\", \"12*x[0]^2 - 6.3*x[0]^4 + x[0]^6 - 6*x[0]*x[1] + 6*x[1]^2\"],\n",
        "[\"ex8_1_6\",\"x[2]\",\"(-1/(0.1 + (x[0] - 4)^2 + (x[1] - 4)^2)) - 1/(0.2 + (x[0] - 1)^2 + (x[1] - 1)^2) - 1/(0.2 + (x[0] - 8)^2 + (x[1] - 8)^2)\"],\n",
        "[\"griewank5\",\"x[4]\",\"1/4000 * (x[0]^2 + x[1]^2 + x[2]^2 + x[3]^2) - cos (x[0]) * cos (x[1]/sqrt(2)) * cos (x[2] / sqrt(3)) * cos (x[3]/2) + 1\"],\n",
        "[\"himmelblau\",\"x[2]\",\"(x[0]^2 + x[1] -11)^2 + (x[0]+ x[1]^2 -7)^2\"],\n",
        "[\"levy10\",\"x[10]\",\"(sin(pi* (1+(x[0]-1)/4)))^2 + ((x[0]-1)/4)^2 * (1+10 * (sin (pi * (1+(x[1]-1)/4)))^2) + ((x[1]-1)/4)^2 * (1+10 * (sin (pi * (1+(x[2]-1)/4)))^2 ) \\\n",
        "+ ((x[2]-1)/4)^2 * (1+10 * (sin (pi * (1+(x[3]-1)/4)))^2 ) + ((x[3]-1)/4)^2 * (1+10 * (sin (pi * (1+(x[4]-1)/4)))^2 ) + ((x[4]-1)/4)^2 * (1+10 * (sin (pi * (1+(x[5]-1)/4)))^2) \\\n",
        "+ ((x[5]-1)/4)^2 * (1+10 * (sin (pi * (1+(x[6]-1)/4)))^2 ) + ((x[6]-1)/4)^2 * (1+10 * (sin (pi * (1+(x[7]-1)/4)))^2 ) + ((x[7]-1)/4)^2 * (1+10 * (sin (pi * (1+(x[8]-1)/4)))^2) \\\n",
        "+ ((x[8]-1)/4)^2 * (1+10 * (sin (pi * (1+(x[9]-1)/4)))^2) +(( x[9]-1)/4)^2\"], \\\n",
        "[\"rastrigin5\",\"x[5]\",\"50 + x[0]^2 + x[1] ^2 + x[2] ^2 + x[3]^2 + x[4]^2 - 10 *cos (2*pi*x[0]) - 10 *cos (2*pi*x[1]) - 10 *cos (2*pi*x[2])- 10 *cos (2*pi*x[3]) - 10 *cos (2*pi*x[4])\"], \\\n",
        "[\"rosenbrock\",\"x[10]\",\"100*(x[1]^2-x[0])^2 + (1-x[0])^2 + 100*(x[2]^2-x[1])^2 + (1-x[1])^2 + 100*(x[3]^2-x[2])^2 + (1-x[2])^2 + 100*(x[4]^2-x[3])^2 + (1-x[3])^2 + 100*(x[5]^2-x[4])^2 + \\\n",
        "(1-x[4])^2 + 100*(x[6]^2-x[5])^2 + (1-x[5])^2 + 100*(x[7]^2-x[6])^2 + (1-x[6])^2 + 100*(x[8]^2-x[7])^2 + (1-x[7])^2 + 100*(x[9]^2-x[8])^2 + (1-x[8])^2\"], \\\n",
        "[\"schwefel-2\", \"x[10]\", \"-(x[0]^2 + (x[0]+x[1])^2 + (x[0]+x[1]+x[2])^2 + (x[0]+x[1]+x[2]+x[3])^2 + (x[0]+x[1]+x[2]+x[3]+x[4])^2 + (x[0]+x[1]+x[2]+x[3]+x[4]+x[5])^2 + \\\n",
        "(x[0]+x[1]+x[2]+x[3]+x[4]+x[5]+x[6])^2 + (x[0]+x[1]+x[2]+x[3]+x[4]+x[5]+x[6]+x[7])^2 + (x[0]+x[1]+x[2]+x[3]+x[4]+x[5]+x[6]+x[7]+x[8])^2 +(x[0]+x[1]+x[2]+x[3]+x[4]+x[5]+x[6]+x[7]+x[8] +x[9])^2)\"], \\\n",
        "[\"shifted-rastrigin\",\"x[10]\",\"300  + x[0]^2 + x[1] ^2 + x[2] ^2 + x[3]^2 + x[4]^2 +x[5]^2 + x[6] ^2 + x[7] ^2 + x[8]^2 + x[9]^2 - 10 *cos (2*pi*x[0]) - 10 *cos (2*pi*x[1]) \\\n",
        "-  10 *cos (2*pi*x[2]) -  10 *cos (2*pi*x[3]) - 10 *cos (2*pi*x[4]) - 10 *cos (2*pi*x[5]) - 10 *cos (2*pi*x[6]) -  10 *cos (2*pi*x[7]) -  10 *cos (2*pi*x[8]) - 10 *cos (2*pi*x[9])\"], \\\n",
        "[\"sixhumcamelback\",\"x[2]\",\"4 * x[0]^2 - 2.1 * x[0]^4+ 1/3*x[0]^6 +x[0]*x[1] -4*x[1]^2 +4*x[1]^4\"],\n",
        "[\"styblinski-tang5\",\"x[5]\",\"  x[0]^4 - 16 * x[0]^2 + 5 * x[0] + x[1]^4 - 16 * x[1]^2 + 5 * x[1] + x[2]^4 - 16 * x[2]^2 + 5 * x[2] + x[3]^4 - 16 * x[3]^2 + 5 * x[3] + x[4]^4 - 16 * x[4]^2 + 5 * x[4] \"], \\\n",
        "\n",
        "[\"brent10-2\",\"x[3]\",\"3*x[1]*(x[2]-2*x[1]+x[0])+(x[2]-x[0])^2/4\"], \\\n",
        "[\"broydenbanded-10-2\",\"x[3]\",\"1 - x[0]*(1 + x[0]) + x[1]*(2 + 5*x[1]^2) - x[2]*(1 + x[2])\"], \\\n",
        "[\"broydentri-10-2\",\"x[3]\",\"1 - x[0] + (3 - 2*x[1])*x[1] - 2*x[2]\"], \\\n",
        "[\"butcher8-2\",\"x[6]\",\"x[2]*x[5] + x[3]*x[4] - (1/2 + 1/2*x[1] + x[1]^2 - x[0]*x[1])\"], \\\n",
        "[\"caprasse-2\",\"x[4]\",\"2 + 4*x[0]^2 - 10*x[2]*x[1] + 4*x[2]*x[0]^2*x[1] - 10*x[1]^2 + 2*x[2]*x[1]^3 + 4*x[0]*x[3] - x[0]^3*x[3] + 4*x[0]*x[1]^2*x[3]\"], \\\n",
        "[\"eco10-2\",\"x[9]\",\"x[1]* (1+x[3]) + x[2] * (x[0]+x[4])+ x[5] * (x[3]+x[7]) + x[4]*x[6] + x[8] * (x[6] -2/9)\"], \\\n",
        "[\"eqcombustion\",\"x[5]\",\"x[0] + 0.00000044975*x[1] + 2*x[0]*x[1] + 0.0000028845*x[1]^2 + 0.0005451766686*x[1]*x[2] + x[1]*x[2]^2 + 0.00003407354179*x[1]*x[3] - 10*x[4]\"], \\\n",
        "[\"extendedfreud-10-2\",\"x[2]\",\"-29 + x[0] + x[1]*(-14 + x[1]*(1 + x[1]))\"], \\\n",
        "[\"extendedwood-4\",\"x[3]\",\"-29 + x[0] + x[1]*(-14 + x[1]*(1 + x[2]))\"], \\\n",
        "[\"fourbar-2\",\"x[4]\",\"0.283274882058*x[0]^2 + 0.283274882058*x[1]^2 + 0.140965913657*x[0]*x[2] - 0.987856648177*x[0]^2*x[2] + 0.153347218606*x[1]*x[2] + 0.531856039949*x[0]*x[1]*x[2] - 1.93710490787*x[1]^2*x[2] + 0.0382903330079*x[2]^2 - 0.0397576281649*x[0]*x[2]^2 + 0.518178672335*x[0]^2*x[2]^2 - 0.581380074072*x[1]*x[2]^2 - 0.631878110759*x[0]*x[1]*x[2]^2 + 2.63600135179*x[1]^2*x[2]^2 - 0.153347218606*x[0]*x[3] - 0.530579106676*x[0]^2*x[3] + 0.140965913657*x[1]*x[3] + 0.949248259696*x[0]*x[1]*x[3] + 0.00127693327315*x[1]^2*x[3] + 0.514166367398*x[0]*x[2]*x[3] + 0.29442805494*x[0]^2*x[2]*x[3] - 0.357476731033*x[1]*x[2]*x[3] - 2.87586667102*x[0]*x[1]*x[2]*x[3] + 1.46551534655*x[1]^2*x[2]*x[3] + 0.0382903330079*x[3]^2 + 0.317719102869*x[0]*x[3]^2 - 0.0414464807343*x[0]^2*x[3]^2 - 0.0672137066743*x[1]*x[3]^2 - 1.80296540237*x[0]*x[1]*x[3]^2 - 0.799490472298*x[1]^2*x[3]^2\"], \\\n",
        "[\"geneig\",\"x[6]\",\"2*x[0] + 9*x[1] + 3*x[2] - x[3] - 2*x[4] + 2*x[0]*x[5] + x[1]*x[5] + 2*x[2]*x[5] + x[3]*x[5] + 3*x[4]*x[5] + 2*x[0]*x[5]^2 - 11*x[1]*x[5]^2 + 2*x[3]*x[5]^2 - 2*x[3]*x[5]^2 + x[4]*x[5]^2\"], \\\n",
        "[\"i5\",\"x[4]\",\"x[1]  - 0.16275449*(x[0]*x[3]*x[2])^3 + x[3]^4*x[2]^7 - 0.37842197\"], \\\n",
        "[\"synthesis\",\"x[6]\",\"218.+x[1]^2+x[2]^2-10*x[3]-13.702*x[1]-1.3942*x[2]-10*x[4]+2*x[3]*(.82181*x[1]-.54841*x[2])+ 2*x[4]*(.54841*x[1]+.68784*x[2])+2*x[5]*(.15451*x[1]+.47553*x[2])-x[0]\"], \\\n",
        "[\"virasoro\",\"x[7]\",\"8*x[0]*x[1]-8*x[0]*x[2]+8*x[1]^2+8*x[1]*x[2]+2*x[1]*x[3]+2*x[1]*x[4]+2*x[1]*x[5]+2*x[1]*x[6]-2*x[3]*x[5]-2*x[4]*x[6]-x[1]\"], \\\n",
        "[\"kin1\",\"x[5]\",\"-1.9115 + cos(x[4])*sin(x[0]) + cos(x[0])*cos(x[1])*sin(x[4]) + cos(x[0])*cos(x[2])*sin(x[4]) + cos(x[0])*cos(x[3])*sin(x[4])\"],\\\n",
        "[\"trigexp1\",\"x[3]\",\"-8 + sin(x[1] - x[2])*sin(x[1] + x[2]) - exp(x[0] - x[1])*x[0] - 4*x[1] + 3*x[1]^3 + 2*x[2]\"],\\\n",
        "[\"trigexp2\",\"x[3]\",\"-3 + 4*x[1] - exp(x[0] - x[1] - x[2])*(x[0] - x[2])\"],\\\n",
        "[\"trigo1\",\"x[5]\",\"5 - cos(x[0]) + 2*(1 - cos(x[1])) - cos(x[1]) - cos(x[2]) - cos(x[3]) - cos(x[4]) - sin(x[1])\"],\\\n",
        "[\"trigonometric\",\"x[5]\",\"5- (1+cos(x[1])) - sin(x[1]) - cos(x[0]) - cos(x[1]) - cos(x[2]) - cos(x[3]) - cos(x[4]) \"], \\\n",
        "[\"troesch\",\"x[2]\",\"2*x[1] + 10*(1/11)^2* sinh(10*x[1]) - x[0] -1 \"]\n",
        "]"
      ],
      "metadata": {
        "id": "HrIfIc1YESBa"
      },
      "execution_count": 14,
      "outputs": []
    },
    {
      "cell_type": "markdown",
      "source": [
        "### Running the experiment\n",
        "Script for running the experiments.\n",
        "`n_slices` boxes are generated with midpoints between `min_mid` and `max_mid`.\n",
        "The function `comparison` evaluates the box on the function by using all the interval extensions and the results are stored in `res`"
      ],
      "metadata": {
        "id": "GspPzdq7sgTy"
      }
    },
    {
      "cell_type": "code",
      "source": [
        "len(instances)\n",
        "res = []\n",
        "for inst in instances:\n",
        "  res.append(comparison(inst[1], inst[2], min_mid=-2., max_mid=2.,  wbox=2.0, n_slices=20, plot=False))"
      ],
      "metadata": {
        "colab": {
          "base_uri": "https://localhost:8080/"
        },
        "id": "918DDv1uKEOG",
        "outputId": "e7cbd16c-284b-4932-ef4c-e7249f90d668"
      },
      "execution_count": null,
      "outputs": [
        {
          "output_type": "stream",
          "name": "stdout",
          "text": [
            "[(0.0, 0.0, 0.0, 525.2), (0.17879730192640542, 0.2459472245799693, 0.6143287050858915, 1.0), (0.17879730192640542, 0.2459472245799693, 0.6143287050858915, 2.0), (0.17879730192640542, 0.2459472245799693, 0.6143287050858915, 2.0), (0.17879730192640542, 0.2459472245799693, 0.6143287050858915, 5.0), (0.17879730192640542, 0.2459472245799693, 0.6143287050858915, 2.0), (0.17879730192640542, 0.2459472245799693, 0.6143287050858915, 2.0), (0.10334254899041671, 0.17060903116031895, 0.46232312708074996, 20.6)]\n",
            "[(0.0, 0.0, 0.0, 13.0), (0.6441217285936219, 0.3502799443052714, 1.0, 1.0), (0.6441217285936219, 0.3502799443052714, 1.0, 2.0), (0.6416306245362559, 0.3496450363209988, 1.0, 2.0), (0.6441217285936219, 0.3502799443052714, 1.0, 2.0), (0.5775345107192226, 0.4296929345772309, 1.0, 2.0), (0.5775345107192226, 0.4296929345772309, 1.0, 2.0), (0.5757185019219551, 0.43023582443298797, 1.0, 2.5)]\n"
          ]
        }
      ]
    },
    {
      "cell_type": "markdown",
      "source": [
        "### Printing the results\n",
        "\n",
        "Code for printing a table summarizing the results.\n",
        "The tablee show the mean and maximum percentage difference between the lower bounds computed by the extension methods and the minimum values of the function obtained by using the solver IbexOpt.\n"
      ],
      "metadata": {
        "id": "3tTzWsPqtZDs"
      }
    },
    {
      "cell_type": "code",
      "source": [
        "print ('\\t natural\\t classic\\t revised\\t revised_t revised_exp\\t og\\t hansen_eval')\n",
        "k=0\n",
        "for r in res:\n",
        "  if(r[2][2]<0.01): k+=1; continue\n",
        "\n",
        "  print('%s & ' % instances[k][0][:7],end='') #%.0f \\t' % r[0][3], end ='')\n",
        "  mm1 = min([p[0] for p in r[1:7]])\n",
        "  mm2 = min([p[2] for p in r[1:7]])\n",
        "  for j in range(1,8):\n",
        "    if r[j][0]<0.0995:\n",
        "      f1 = '%.2f'\n",
        "    elif r[j][0]<0.995:\n",
        "      f1 = '%.1f'\n",
        "    else:\n",
        "      f1 = '%.0f'\n",
        "    if r[j][2]<0.0995:\n",
        "      f2 = '%.2f'\n",
        "    elif r[j][2]<0.995:\n",
        "      f2 = '%.1f'\n",
        "    else:\n",
        "      f2 = '%.0f'\n",
        "\n",
        "    if r[j][0]==mm1 and j!=7:\n",
        "      f1='{\\\\bf '+f1+'}'\n",
        "    if r[j][2]==mm2 and j!=7:\n",
        "      f2='{\\\\bf '+f2+'}'\n",
        "    if r[j][0]==r[1][0] and j!=1:\n",
        "      f1 = ' = '\n",
        "    if r[j][2]==r[1][2] and j!=1:\n",
        "      f2 = ' = '\n",
        "\n",
        "    f1 += ' & '\n",
        "    f2 += ' & '\n",
        "\n",
        "    print(f1 % (r[j][0]*100), end='')\n",
        "    print(f2 % (r[j][2]*100), end='')\n",
        "\n",
        "    if j==7: print('%.1f \\\\\\\\' % (r[7][3]/2.))\n",
        "  k+=1"
      ],
      "metadata": {
        "id": "UllFyWchKNO9"
      },
      "execution_count": null,
      "outputs": []
    },
    {
      "cell_type": "markdown",
      "source": [
        "### Plots"
      ],
      "metadata": {
        "id": "Wo3tkFFisN0s"
      }
    },
    {
      "cell_type": "markdown",
      "source": [
        "Plots reports the percentage differences (\\%error) for the different methods and instances in function of the sizes of the intervals of the input box $\\mathbf{x}$ (wid\\_x). We selected as midpoint the value giving the worst results on each instance, i.e.,  caprass: 1.2, eqcombu: -0.5,  ex4.1.5: 1.75, and rosenbr: 0.5."
      ],
      "metadata": {
        "id": "UQafWVQlrRiK"
      }
    },
    {
      "cell_type": "code",
      "source": [
        "title=\"caprass\"\n",
        "vars =\"x[4]\"\n",
        "func = \"2 + 4*x[0]^2 - 10*x[2]*x[1] + 4*x[2]*x[0]^2*x[1] - 10*x[1]^2 + 2*x[2]*x[1]^3 + 4*x[0]*x[3] - x[0]^3*x[3] + 4*x[0]*x[1]^2*x[3]\"\n",
        "\n",
        "\n",
        "#comparison(vars, func, min_mid=-2., max_mid=2.,  wbox=0.5, n_slices=20)\n",
        "comparison_w(title, vars, func, mid=1.2, min_w=0.1,  max_w=3.0, n_slices=20, ylim=[-10,200])"
      ],
      "metadata": {
        "id": "j8dg8MhHAsFc"
      },
      "execution_count": null,
      "outputs": []
    },
    {
      "cell_type": "code",
      "source": [
        "[\"eqcombu\",\"x[5]\",\"x[0] + 0.00000044975*x[1] + 2*x[0]*x[1] + 0.0000028845*x[1]^2 + 0.0005451766686*x[1]*x[2] + x[1]*x[2]^2 + 0.00003407354179*x[1]*x[3] - 10*x[4]\"]\n",
        "\n",
        "title=\"eqcombu\"\n",
        "vars =\"x[5]\"\n",
        "func = \"x[0] + 0.00000044975*x[1] + 2*x[0]*x[1] + 0.0000028845*x[1]^2 + 0.0005451766686*x[1]*x[2] + x[1]*x[2]^2 + 0.00003407354179*x[1]*x[3] - 10*x[4]\"\n",
        "\n",
        "import matplotlib\n",
        "matplotlib.rcParams.update({'font.size': 12})\n",
        "#comparison(vars, func, min_mid=-2., max_mid=2.,  wbox=0.5, n_slices=20)\n",
        "comparison_w(title, vars, func, mid=-0.5, min_w=0.1,  max_w=2.0, n_slices=20)"
      ],
      "metadata": {
        "id": "6fuVakAa7QVP"
      },
      "execution_count": null,
      "outputs": []
    },
    {
      "cell_type": "code",
      "source": [
        "title=\"ex4.1.5\"\n",
        "vars =\"x[2]\"\n",
        "func = \"2*x[0]^2 - 1.05*x[0]^4 + 0.166666666666667*x[0]^6 - x[0]*x[1] + x[1]^2\"\n",
        "#comparison(vars, func, min_mid=-2., max_mid=2.,  wbox=0.1, n_slices=20)\n",
        "comparison_w(title, vars, func, mid=1.75, min_w=0.1,  max_w=2.5, n_slices=20, ylim=[-100,4000])"
      ],
      "metadata": {
        "id": "qihOjgb7haan"
      },
      "execution_count": null,
      "outputs": []
    },
    {
      "cell_type": "code",
      "source": [
        "title=\"rosenbr\"\n",
        "vars =\"x[10]\"\n",
        "func = \"100*(x[1]^2-x[0])^2 + (1-x[0])^2 + 100*(x[2]^2-x[1])^2 + (1-x[1])^2 + 100*(x[3]^2-x[2])^2 + (1-x[2])^2 + 100*(x[4]^2-x[3])^2 + (1-x[3])^2 + 100*(x[5]^2-x[4])^2 + \\\n",
        "(1-x[4])^2 + 100*(x[6]^2-x[5])^2 + (1-x[5])^2 + 100*(x[7]^2-x[6])^2 + (1-x[6])^2 + 100*(x[8]^2-x[7])^2 + (1-x[7])^2 + 100*(x[9]^2-x[8])^2 + (1-x[8])^2\"\n",
        "\n",
        "#comparison(vars, func, min_mid=-2., max_mid=2.,  wbox=0.5, n_slices=20)\n",
        "comparison_w(title, vars, func, mid=0.5, min_w=0.01,  max_w=0.2, n_slices=20)"
      ],
      "metadata": {
        "id": "qsYMTWkBHI24"
      },
      "execution_count": null,
      "outputs": []
    }
  ]
}